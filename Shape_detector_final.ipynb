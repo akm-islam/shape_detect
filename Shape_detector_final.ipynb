{
 "cells": [
  {
   "cell_type": "code",
   "execution_count": 75,
   "metadata": {},
   "outputs": [
    {
     "name": "stdout",
     "output_type": "stream",
     "text": [
      "(382, 791, 3)\n"
     ]
    }
   ],
   "source": [
    "import numpy as np\n",
    "import cv2\n",
    "def getWidth(cnt):\n",
    "    a=[]\n",
    "    for i in cnt:\n",
    "        a.append(i[0][0])\n",
    "    #print(\"min\",min(a),\"max\",max(a))\n",
    "    return max(a)-min(a)\n",
    "def getHeight(cnt):\n",
    "    a=[]\n",
    "    for i in cnt:\n",
    "        a.append(i[0][1])\n",
    "    return max(a)-min(a)\n",
    "def getXY(cnt):\n",
    "    a=[]\n",
    "    b=[]\n",
    "    for i in cnt:\n",
    "        a.append(i[0][1])\n",
    "        b.append(i[0][0])\n",
    "    #print(\"min\",min(a),min(b))\n",
    "    return (min(a),min(b))\n",
    "\n",
    "img = cv2.imread('01.png')\n",
    "print(img.shape)\n",
    "#----------------\n",
    "gray = cv2.cvtColor(img, cv2.COLOR_BGR2GRAY)\n",
    "ret,thresh = cv2.threshold(gray, 240, 255, cv2.THRESH_BINARY)\n",
    "contours,h = cv2.findContours(thresh,1,2)\n",
    "#----------------\n",
    "dict_to_return={}\n",
    "for cnt in contours:\n",
    "    approx = cv2.approxPolyDP(cnt,0.01*cv2.arcLength(cnt,True),True)\n",
    "    if len(approx)==4:\n",
    "        if getXY(cnt)[0]!=0:\n",
    "            dict_to_return[\"div\"+str(np.random.randint(10))]={\"width\":getWidth(cnt),\"Height\":getHeight(cnt),\"xy\":getXY(cnt)}\n",
    "    elif len(approx)==7:\n",
    "        dict_to_return[\"carrosel\"+str(np.random.randint(10))]={\"width\":getWidth(cnt),\"Height\":getHeight(cnt),\"xy\":getXY(cnt)}\n",
    "    elif len(approx)==6:\n",
    "        dict_to_return[\"Img\"+str(np.random.randint(10))]={\"width\":getWidth(cnt),\"Height\":getHeight(cnt),\"xy\":getXY(cnt)}\n",
    "    elif len(approx)==8:\n",
    "        dict_to_return[\"Nav\"+str(np.random.randint(10))]={\"width\":getWidth(cnt),\"Height\":getHeight(cnt),\"xy\":getXY(cnt)}\n",
    "    "
   ]
  },
  {
   "cell_type": "code",
   "execution_count": 76,
   "metadata": {},
   "outputs": [
    {
     "data": {
      "text/plain": [
       "{'carrosel1': {'width': 132, 'Height': 80, 'xy': (246, 322)},\n",
       " 'carrosel2': {'width': 146, 'Height': 96, 'xy': (238, 314)},\n",
       " 'Img4': {'width': 241, 'Height': 92, 'xy': (55, 431)},\n",
       " 'div1': {'width': 93, 'Height': 92, 'xy': (53, 45)},\n",
       " 'Img9': {'width': 253, 'Height': 104, 'xy': (49, 425)},\n",
       " 'div3': {'width': 105, 'Height': 104, 'xy': (47, 39)}}"
      ]
     },
     "execution_count": 76,
     "metadata": {},
     "output_type": "execute_result"
    }
   ],
   "source": [
    "dict_to_return"
   ]
  },
  {
   "cell_type": "code",
   "execution_count": null,
   "metadata": {},
   "outputs": [],
   "source": []
  }
 ],
 "metadata": {
  "kernelspec": {
   "display_name": "Python 3",
   "language": "python",
   "name": "python3"
  },
  "language_info": {
   "codemirror_mode": {
    "name": "ipython",
    "version": 3
   },
   "file_extension": ".py",
   "mimetype": "text/x-python",
   "name": "python",
   "nbconvert_exporter": "python",
   "pygments_lexer": "ipython3",
   "version": "3.7.4"
  }
 },
 "nbformat": 4,
 "nbformat_minor": 2
}
