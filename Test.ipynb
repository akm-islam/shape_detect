{
 "cells": [
  {
   "cell_type": "code",
   "execution_count": 165,
   "metadata": {},
   "outputs": [
    {
     "name": "stdout",
     "output_type": "stream",
     "text": [
      "39\n"
     ]
    }
   ],
   "source": [
    "import numpy as np\n",
    "import cv2\n",
    "\n",
    "img = cv2.imread('02.png')\n",
    "#print(img.shape)\n",
    "\n",
    "#------------------------\n",
    "img_hsv = cv2.cvtColor(img, cv2.COLOR_BGR2HSV)\n",
    "# lower mask (0-10)\n",
    "lower_red = np.array([10,50,50])\n",
    "upper_red = np.array([170,255,255])\n",
    "mask0 = cv2.inRange(img_hsv, lower_red, upper_red)\n",
    "\n",
    "# upper mask (170-180)\n",
    "lower_red = np.array([180,50,50])\n",
    "upper_red = np.array([255,255,255])\n",
    "mask1 = cv2.inRange(img_hsv, lower_red, upper_red)\n",
    "\n",
    "# join my masks\n",
    "mask = mask0+mask1\n",
    "# set my output img to zero everywhere except my mask\n",
    "output_img = img.copy()\n",
    "output_img[np.where(mask==0)] = 0\n",
    "\n",
    "# or your HSV image, which I *believe* is what you want\n",
    "output_hsv = img_hsv.copy()\n",
    "output_hsv[np.where(mask==0)] = 0\n",
    "#------------------------\n",
    "cv2.imshow('Image', output_hsv)\n",
    "cv2.waitKey(0)\n",
    "cv2.destroyAllWindows()\n",
    "\n",
    "gray = cv2.cvtColor(img, cv2.COLOR_BGR2GRAY)\n",
    "ret,thresh = cv2.threshold(gray,127,255,1)\n",
    "contours,h = cv2.findContours(thresh,1,2)\n",
    "print(len(contours))"
   ]
  },
  {
   "cell_type": "code",
   "execution_count": 138,
   "metadata": {},
   "outputs": [
    {
     "name": "stdout",
     "output_type": "stream",
     "text": [
      "(382, 791, 4)\n",
      "39\n"
     ]
    }
   ],
   "source": [
    "import numpy as np\n",
    "import cv2\n",
    "img = cv2.imread('02.png',cv2.IMREAD_UNCHANGED)\n",
    "print(img.shape)\n",
    "gray = cv2.cvtColor(img, cv2.COLOR_BGR2GRAY)\n",
    "ret,thresh = cv2.threshold(gray,127,255,1)\n",
    "contours,h = cv2.findContours(thresh,1,2)\n",
    "print(len(contours))\n",
    "\n",
    "cv2.imshow('Image', img)\n",
    "cv2.waitKey(0)\n",
    "cv2.destroyAllWindows()"
   ]
  },
  {
   "cell_type": "code",
   "execution_count": 124,
   "metadata": {},
   "outputs": [
    {
     "name": "stdout",
     "output_type": "stream",
     "text": [
      "Ten [[311 247]]\n",
      "Ten [[314 240]]\n",
      "Octagon [[561  99]]\n",
      "Ten [[551  99]]\n",
      "Octagon [[117  90]]\n",
      "Octagon [[100  90]]\n",
      "Octagon [[78 90]]\n",
      "Hexagon [[62 90]]\n",
      "Ten [[119  87]]\n",
      "square [[111  87]] [[111  96]] [[112  96]] [[112  87]]\n",
      "square [[72 87]] [[72 96]] [[73 96]] [[73 87]]\n",
      "square [[68 87]] [[68 96]] [[69 96]] [[69 87]]\n",
      "Triangle [[198  75]]\n",
      "Triangle [[195  68]]\n",
      "Hexagon [[549  55]]\n",
      "square [[44 53]] [[45 52]] [[138  52]] [[139  53]]\n",
      "Hexagon [[550  50]]\n",
      "square [[40 48]] [[ 40 150]] [[143 150]] [[143  48]]\n"
     ]
    }
   ],
   "source": [
    "for cnt in contours:\n",
    "    approx = cv2.approxPolyDP(cnt,0.01*cv2.arcLength(cnt,True),True)\n",
    "    if len(approx)==4:\n",
    "        print(\"square\",cnt[0],cnt[1],cnt[2],cnt[3])\n",
    "        #cv2.drawContours(img,[cnt],0,(0,0,255),-1)\n",
    "    elif len(approx)==3:\n",
    "        print(\"Triangle\",cnt[0])\n",
    "        #cv2.drawContours(img,[cnt],0,(0,0,255),-1)\n",
    "    elif len(approx)==6:\n",
    "        print(\"Hexagon\",cnt[0])\n",
    "        #cv2.drawContours(img,[cnt],0,(0,0,255),-1)\n",
    "    elif len(approx)==8:\n",
    "        print(\"Octagon\",cnt[0])\n",
    "        cv2.drawContours(img,[cnt],0,(0,0,255),-1)\n",
    "    elif len(approx)==10:\n",
    "        print(\"Ten\",cnt[0])\n",
    "        cv2.drawContours(img,[cnt],0,(0,0,255),-1)"
   ]
  },
  {
   "cell_type": "code",
   "execution_count": 126,
   "metadata": {},
   "outputs": [],
   "source": [
    "cv2.imshow('Image', img)\n",
    "cv2.waitKey(0)\n",
    "cv2.destroyAllWindows()"
   ]
  },
  {
   "cell_type": "code",
   "execution_count": 111,
   "metadata": {},
   "outputs": [
    {
     "name": "stdout",
     "output_type": "stream",
     "text": [
      "square [[[ 44  53]]\n",
      "\n",
      " [[ 45  52]]\n",
      "\n",
      " [[138  52]]\n",
      "\n",
      " [[139  53]]\n",
      "\n",
      " [[139 145]]\n",
      "\n",
      " [[138 146]]\n",
      "\n",
      " [[ 45 146]]\n",
      "\n",
      " [[ 44 145]]]\n",
      "square [[[ 40  48]]\n",
      "\n",
      " [[ 40 150]]\n",
      "\n",
      " [[143 150]]\n",
      "\n",
      " [[143  48]]]\n"
     ]
    }
   ],
   "source": [
    "for cnt in contours:\n",
    "    approx = cv2.approxPolyDP(cnt,0.01*cv2.arcLength(cnt,True),True)\n",
    "    if len(approx)==4:\n",
    "        print(\"square\",cnt)\n",
    "        #cv2.drawContours(img,[cnt],0,(0,0,255),-1)"
   ]
  },
  {
   "cell_type": "code",
   "execution_count": 145,
   "metadata": {},
   "outputs": [],
   "source": [
    "height,width, _=img.shape"
   ]
  },
  {
   "cell_type": "code",
   "execution_count": null,
   "metadata": {},
   "outputs": [],
   "source": []
  },
  {
   "cell_type": "code",
   "execution_count": null,
   "metadata": {},
   "outputs": [],
   "source": []
  },
  {
   "cell_type": "code",
   "execution_count": null,
   "metadata": {},
   "outputs": [],
   "source": []
  },
  {
   "cell_type": "code",
   "execution_count": null,
   "metadata": {},
   "outputs": [],
   "source": []
  },
  {
   "cell_type": "code",
   "execution_count": null,
   "metadata": {},
   "outputs": [],
   "source": []
  },
  {
   "cell_type": "code",
   "execution_count": 167,
   "metadata": {},
   "outputs": [
    {
     "name": "stdout",
     "output_type": "stream",
     "text": [
      "(382, 791, 3)\n",
      "9\n"
     ]
    }
   ],
   "source": []
  },
  {
   "cell_type": "code",
   "execution_count": 169,
   "metadata": {},
   "outputs": [
    {
     "name": "stdout",
     "output_type": "stream",
     "text": [
      "Ten [[312 247]]\n",
      "Ten [[314 239]]\n",
      "Triangle [[199  75]]\n",
      "Triangle [[195  67]]\n",
      "Hexagon [[550  55]]\n",
      "square [[45 53]] [[ 45 145]] [[138 145]] [[138  53]]\n",
      "Hexagon [[549  50]]\n",
      "square [[39 48]] [[40 47]] [[143  47]] [[144  48]]\n",
      "square [[0 0]] [[  0 381]] [[790 381]] [[790   0]]\n"
     ]
    }
   ],
   "source": [
    "import numpy as np\n",
    "import cv2\n",
    "img = cv2.imread('01.png')\n",
    "print(img.shape)\n",
    "#----------------\n",
    "gray = cv2.cvtColor(img, cv2.COLOR_BGR2GRAY)\n",
    "ret,thresh = cv2.threshold(gray, 240, 255, cv2.THRESH_BINARY)\n",
    "contours,h = cv2.findContours(thresh,1,2)\n",
    "print(len(contours))\n",
    "\n",
    "for cnt in contours:\n",
    "    approx = cv2.approxPolyDP(cnt,0.01*cv2.arcLength(cnt,True),True)\n",
    "    if len(approx)==4:\n",
    "        print(\"square\",cnt[0],cnt[1],cnt[2],cnt[3])\n",
    "        #cv2.drawContours(img,[cnt],0,(0,0,255),-1)\n",
    "    elif len(approx)==3:\n",
    "        print(\"Triangle\",cnt[0])\n",
    "        #cv2.drawContours(img,[cnt],0,(0,0,255),-1)\n",
    "    elif len(approx)==6:\n",
    "        print(\"Hexagon\",cnt[0])\n",
    "        #cv2.drawContours(img,[cnt],0,(0,0,255),-1)\n",
    "    elif len(approx)==8:\n",
    "        print(\"Octagon\",cnt[0])\n",
    "        cv2.drawContours(img,[cnt],0,(0,0,255),-1)\n",
    "    elif len(approx)==10:\n",
    "        print(\"Ten\",cnt[0])\n",
    "        cv2.drawContours(img,[cnt],0,(0,0,255),-1)"
   ]
  },
  {
   "cell_type": "code",
   "execution_count": null,
   "metadata": {},
   "outputs": [],
   "source": []
  }
 ],
 "metadata": {
  "kernelspec": {
   "display_name": "Python 3",
   "language": "python",
   "name": "python3"
  },
  "language_info": {
   "codemirror_mode": {
    "name": "ipython",
    "version": 3
   },
   "file_extension": ".py",
   "mimetype": "text/x-python",
   "name": "python",
   "nbconvert_exporter": "python",
   "pygments_lexer": "ipython3",
   "version": "3.7.4"
  }
 },
 "nbformat": 4,
 "nbformat_minor": 2
}
