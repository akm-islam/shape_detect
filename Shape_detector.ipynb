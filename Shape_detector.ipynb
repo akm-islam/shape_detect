{
 "cells": [
  {
   "cell_type": "code",
   "execution_count": null,
   "metadata": {},
   "outputs": [
    {
     "name": "stdout",
     "output_type": "stream",
     "text": [
      "square\n",
      "pentagon\n"
     ]
    }
   ],
   "source": [
    "import numpy as np\n",
    "import cv2\n",
    "\n",
    "img = cv2.imread('01.png')\n",
    "gray = cv2.cvtColor(img, cv2.COLOR_BGR2GRAY)\n",
    "\n",
    "ret,thresh = cv2.threshold(gray,127,255,1)\n",
    "\n",
    "contours,h = cv2.findContours(thresh,1,2)\n",
    "\n",
    "for cnt in contours:\n",
    "    approx = cv2.approxPolyDP(cnt,0.01*cv2.arcLength(cnt,True),True)\n",
    "    if len(approx)==5:\n",
    "        print(\"pentagon\")\n",
    "        cv2.drawContours(img,[cnt],0,255,-1)\n",
    "    elif len(approx)==3:\n",
    "        print(\"triangle\")\n",
    "        cv2.drawContours(img,[cnt],0,(0,255,0),-1)\n",
    "    elif len(approx)==4:\n",
    "        print(\"square\")\n",
    "        cv2.drawContours(img,[cnt],0,(0,0,255),-1)\n",
    "    elif len(approx) == 9:\n",
    "        print(\"half-circle\")\n",
    "        cv2.drawContours(img,[cnt],0,(255,255,0),-1)\n",
    "    elif len(approx) > 15:\n",
    "        print(\"circle\")\n",
    "        cv2.drawContours(img,[cnt],0,(0,255,255),-1)\n",
    "\n",
    "cv2.imshow('img',img)\n",
    "cv2.waitKey(0)\n",
    "cv2.destroyAllWindows()"
   ]
  },
  {
   "cell_type": "code",
   "execution_count": null,
   "metadata": {},
   "outputs": [],
   "source": []
  }
 ],
 "metadata": {
  "kernelspec": {
   "display_name": "Python 3",
   "language": "python",
   "name": "python3"
  },
  "language_info": {
   "codemirror_mode": {
    "name": "ipython",
    "version": 3
   },
   "file_extension": ".py",
   "mimetype": "text/x-python",
   "name": "python",
   "nbconvert_exporter": "python",
   "pygments_lexer": "ipython3",
   "version": "3.7.4"
  }
 },
 "nbformat": 4,
 "nbformat_minor": 2
}
